{
 "cells": [
  {
   "cell_type": "code",
   "execution_count": 1,
   "id": "b90fa8da-4d2f-4223-b93e-2d72a203f522",
   "metadata": {},
   "outputs": [],
   "source": [
    "#%pip install datasets -q\n",
    "#%pip install torch -q\n",
    "#%pip install transformers -q"
   ]
  },
  {
   "cell_type": "code",
   "execution_count": 2,
   "id": "9a503748-19ce-4727-b6de-61150b77a004",
   "metadata": {},
   "outputs": [],
   "source": [
    "from transformers import (\n",
    "    AutoTokenizer,\n",
    "    BertForSequenceClassification,\n",
    "    Trainer,\n",
    "    TrainingArguments,\n",
    "    DataCollatorWithPadding\n",
    ")\n",
    "from datasets import Dataset\n",
    "from sklearn.model_selection import train_test_split\n",
    "from sklearn.metrics import accuracy_score, f1_score, recall_score\n",
    "import numpy as np\n",
    "import torch\n",
    "import pandas as pd"
   ]
  },
  {
   "cell_type": "code",
   "execution_count": 3,
   "id": "392e58fc-adcf-46db-ba80-bf0b2b79857c",
   "metadata": {
    "colab": {
     "base_uri": "https://localhost:8080/",
     "height": 309,
     "referenced_widgets": [
      "c42456a25fbb4fed8f2b42986e652ffa",
      "d28d6a72d94a4cef8f8580646690cdc2",
      "7726a2f3923d4a988d51d73c30309e0e",
      "3c7dcd919597447b9b210cca55a5af6a",
      "eda7812329c24b2d8380f59f20712e3a",
      "7c25eef7d72e47c3be43d4e11bd4728e",
      "4510f26af0b44432ac25c7d62b07fb5f",
      "26da106da1ad459f8710708ce74b2d3c",
      "83d073a16f6e4d2ca18fde1ea30447bd",
      "d1ca472979474e11b2c4f5e901c6a575",
      "8639cf398b1f40f4b89a0a1b84380cad",
      "0d681ff46b3d434693655fc9064b6c26",
      "6090e163294e4cdcbae3822b0f9531b8",
      "ef2d5c70748440e79893f1d6e6df616e",
      "21d0bc8d830a4a7dbcbc25d6f1347af4",
      "b95446be1b0346fab587b0f7f94a0b50",
      "e933ee32414d4733b281429701cecb73",
      "f272132c8e024a228eeb3fe27ecf0bc1",
      "dc185fe4d6bd444892f90a7a57704a4c",
      "b18435057c094d40bfbc18c45b606206",
      "1b6a677fa8d4470d8d242a9d8befa461",
      "f193c2e44744404f830da86491e61110"
     ]
    },
    "id": "392e58fc-adcf-46db-ba80-bf0b2b79857c",
    "outputId": "61b2d231-45a1-4c43-909f-9995f68d8915"
   },
   "outputs": [
    {
     "data": {
      "text/html": [
       "<div>\n",
       "<style scoped>\n",
       "    .dataframe tbody tr th:only-of-type {\n",
       "        vertical-align: middle;\n",
       "    }\n",
       "\n",
       "    .dataframe tbody tr th {\n",
       "        vertical-align: top;\n",
       "    }\n",
       "\n",
       "    .dataframe thead th {\n",
       "        text-align: right;\n",
       "    }\n",
       "</style>\n",
       "<table border=\"1\" class=\"dataframe\">\n",
       "  <thead>\n",
       "    <tr style=\"text-align: right;\">\n",
       "      <th></th>\n",
       "      <th>firm</th>\n",
       "      <th>date_review</th>\n",
       "      <th>overall_rating</th>\n",
       "      <th>work_life_balance</th>\n",
       "      <th>culture_values</th>\n",
       "      <th>career_opp</th>\n",
       "      <th>comp_benefits</th>\n",
       "      <th>senior_mgmt</th>\n",
       "      <th>recommend</th>\n",
       "      <th>ceo_approv</th>\n",
       "      <th>...</th>\n",
       "      <th>recommend_score</th>\n",
       "      <th>status</th>\n",
       "      <th>experience</th>\n",
       "      <th>headline_clean</th>\n",
       "      <th>pros_clean</th>\n",
       "      <th>cons_clean</th>\n",
       "      <th>full_text_clean</th>\n",
       "      <th>text</th>\n",
       "      <th>sentiment</th>\n",
       "      <th>label</th>\n",
       "    </tr>\n",
       "  </thead>\n",
       "  <tbody>\n",
       "    <tr>\n",
       "      <th>0</th>\n",
       "      <td>Apple</td>\n",
       "      <td>2008-01-31</td>\n",
       "      <td>5</td>\n",
       "      <td>3.0</td>\n",
       "      <td>5.0</td>\n",
       "      <td>3.0</td>\n",
       "      <td>4.0</td>\n",
       "      <td>4.0</td>\n",
       "      <td>v</td>\n",
       "      <td>v</td>\n",
       "      <td>...</td>\n",
       "      <td>2.0</td>\n",
       "      <td>current</td>\n",
       "      <td>No information</td>\n",
       "      <td>product poeple enjoy buy</td>\n",
       "      <td>people work great not imagine life will produc...</td>\n",
       "      <td>careful job life careful need learn seperate  ...</td>\n",
       "      <td>product poeple enjoy buy. people work great no...</td>\n",
       "      <td>product poeple enjoy buy people work great not...</td>\n",
       "      <td>positive</td>\n",
       "      <td>1</td>\n",
       "    </tr>\n",
       "    <tr>\n",
       "      <th>1</th>\n",
       "      <td>Apple</td>\n",
       "      <td>2008-02-14</td>\n",
       "      <td>4</td>\n",
       "      <td>4.0</td>\n",
       "      <td>5.0</td>\n",
       "      <td>3.0</td>\n",
       "      <td>4.0</td>\n",
       "      <td>3.0</td>\n",
       "      <td>v</td>\n",
       "      <td>v</td>\n",
       "      <td>...</td>\n",
       "      <td>2.0</td>\n",
       "      <td>current</td>\n",
       "      <td>No information</td>\n",
       "      <td>different job different creative product work</td>\n",
       "      <td>big positive enjoy job apple innovative change...</td>\n",
       "      <td>suppose con hard balance work home life</td>\n",
       "      <td>different job different creative product work....</td>\n",
       "      <td>different job different creative product work ...</td>\n",
       "      <td>positive</td>\n",
       "      <td>1</td>\n",
       "    </tr>\n",
       "    <tr>\n",
       "      <th>2</th>\n",
       "      <td>Apple</td>\n",
       "      <td>2008-02-15</td>\n",
       "      <td>5</td>\n",
       "      <td>4.0</td>\n",
       "      <td>5.0</td>\n",
       "      <td>5.0</td>\n",
       "      <td>5.0</td>\n",
       "      <td>5.0</td>\n",
       "      <td>v</td>\n",
       "      <td>v</td>\n",
       "      <td>...</td>\n",
       "      <td>2.0</td>\n",
       "      <td>current</td>\n",
       "      <td>No information</td>\n",
       "      <td>work apple hard job love</td>\n",
       "      <td>work place like apple opportunity change way w...</td>\n",
       "      <td>people apple live bleed edge not know future h...</td>\n",
       "      <td>work apple hard job love. work place like appl...</td>\n",
       "      <td>work apple hard job love work place like apple...</td>\n",
       "      <td>positive</td>\n",
       "      <td>1</td>\n",
       "    </tr>\n",
       "    <tr>\n",
       "      <th>3</th>\n",
       "      <td>Apple</td>\n",
       "      <td>2008-04-20</td>\n",
       "      <td>5</td>\n",
       "      <td>5.0</td>\n",
       "      <td>5.0</td>\n",
       "      <td>5.0</td>\n",
       "      <td>4.0</td>\n",
       "      <td>5.0</td>\n",
       "      <td>v</td>\n",
       "      <td>v</td>\n",
       "      <td>...</td>\n",
       "      <td>2.0</td>\n",
       "      <td>current</td>\n",
       "      <td>No information</td>\n",
       "      <td>retail job altogether exciting thrilling life ...</td>\n",
       "      <td>despite fact boil sell product apple make feel...</td>\n",
       "      <td>intensive training mandatory meeting month pos...</td>\n",
       "      <td>retail job altogether exciting thrilling life ...</td>\n",
       "      <td>retail job altogether exciting thrilling life ...</td>\n",
       "      <td>positive</td>\n",
       "      <td>1</td>\n",
       "    </tr>\n",
       "    <tr>\n",
       "      <th>4</th>\n",
       "      <td>Apple</td>\n",
       "      <td>2008-04-20</td>\n",
       "      <td>2</td>\n",
       "      <td>3.0</td>\n",
       "      <td>5.0</td>\n",
       "      <td>2.0</td>\n",
       "      <td>3.0</td>\n",
       "      <td>1.0</td>\n",
       "      <td>x</td>\n",
       "      <td>x</td>\n",
       "      <td>...</td>\n",
       "      <td>0.0</td>\n",
       "      <td>former</td>\n",
       "      <td>No information</td>\n",
       "      <td>bad choice</td>\n",
       "      <td>benefit fulltime employee great stock option r...</td>\n",
       "      <td>confidentiality not fart get reprimand way fee...</td>\n",
       "      <td>bad choice. benefit fulltime employee great st...</td>\n",
       "      <td>bad choice benefit fulltime employee great sto...</td>\n",
       "      <td>negative</td>\n",
       "      <td>0</td>\n",
       "    </tr>\n",
       "  </tbody>\n",
       "</table>\n",
       "<p>5 rows × 24 columns</p>\n",
       "</div>"
      ],
      "text/plain": [
       "    firm date_review  overall_rating  work_life_balance  culture_values  \\\n",
       "0  Apple  2008-01-31               5                3.0             5.0   \n",
       "1  Apple  2008-02-14               4                4.0             5.0   \n",
       "2  Apple  2008-02-15               5                4.0             5.0   \n",
       "3  Apple  2008-04-20               5                5.0             5.0   \n",
       "4  Apple  2008-04-20               2                3.0             5.0   \n",
       "\n",
       "   career_opp  comp_benefits  senior_mgmt recommend ceo_approv  ...  \\\n",
       "0         3.0            4.0          4.0         v          v  ...   \n",
       "1         3.0            4.0          3.0         v          v  ...   \n",
       "2         5.0            5.0          5.0         v          v  ...   \n",
       "3         5.0            4.0          5.0         v          v  ...   \n",
       "4         2.0            3.0          1.0         x          x  ...   \n",
       "\n",
       "  recommend_score   status      experience  \\\n",
       "0             2.0  current  No information   \n",
       "1             2.0  current  No information   \n",
       "2             2.0  current  No information   \n",
       "3             2.0  current  No information   \n",
       "4             0.0   former  No information   \n",
       "\n",
       "                                      headline_clean  \\\n",
       "0                           product poeple enjoy buy   \n",
       "1      different job different creative product work   \n",
       "2                           work apple hard job love   \n",
       "3  retail job altogether exciting thrilling life ...   \n",
       "4                                         bad choice   \n",
       "\n",
       "                                          pros_clean  \\\n",
       "0  people work great not imagine life will produc...   \n",
       "1  big positive enjoy job apple innovative change...   \n",
       "2  work place like apple opportunity change way w...   \n",
       "3  despite fact boil sell product apple make feel...   \n",
       "4  benefit fulltime employee great stock option r...   \n",
       "\n",
       "                                          cons_clean  \\\n",
       "0  careful job life careful need learn seperate  ...   \n",
       "1            suppose con hard balance work home life   \n",
       "2  people apple live bleed edge not know future h...   \n",
       "3  intensive training mandatory meeting month pos...   \n",
       "4  confidentiality not fart get reprimand way fee...   \n",
       "\n",
       "                                     full_text_clean  \\\n",
       "0  product poeple enjoy buy. people work great no...   \n",
       "1  different job different creative product work....   \n",
       "2  work apple hard job love. work place like appl...   \n",
       "3  retail job altogether exciting thrilling life ...   \n",
       "4  bad choice. benefit fulltime employee great st...   \n",
       "\n",
       "                                                text sentiment label  \n",
       "0  product poeple enjoy buy people work great not...  positive     1  \n",
       "1  different job different creative product work ...  positive     1  \n",
       "2  work apple hard job love work place like apple...  positive     1  \n",
       "3  retail job altogether exciting thrilling life ...  positive     1  \n",
       "4  bad choice benefit fulltime employee great sto...  negative     0  \n",
       "\n",
       "[5 rows x 24 columns]"
      ]
     },
     "execution_count": 3,
     "metadata": {},
     "output_type": "execute_result"
    }
   ],
   "source": [
    "# Chargement des données\n",
    "path = \"https://fullstackds-projects-bucket.s3.eu-west-3.amazonaws.com/data/clean_reviews_with_labels.csv\"\n",
    "df = pd.read_csv(path)\n",
    "df.head()\n"
   ]
  },
  {
   "cell_type": "code",
   "execution_count": 4,
   "id": "0d6324b7-59e7-44ad-a671-f1ff96e18a5c",
   "metadata": {},
   "outputs": [
    {
     "data": {
      "application/vnd.jupyter.widget-view+json": {
       "model_id": "4a47230a60bd4717804b9fdbafa502e0",
       "version_major": 2,
       "version_minor": 0
      },
      "text/plain": [
       "Map:   0%|          | 0/211117 [00:00<?, ? examples/s]"
      ]
     },
     "metadata": {},
     "output_type": "display_data"
    },
    {
     "data": {
      "application/vnd.jupyter.widget-view+json": {
       "model_id": "ab2be1750d0d4bc0abf3bbad4ee88784",
       "version_major": 2,
       "version_minor": 0
      },
      "text/plain": [
       "Map:   0%|          | 0/52780 [00:00<?, ? examples/s]"
      ]
     },
     "metadata": {},
     "output_type": "display_data"
    }
   ],
   "source": [
    "# Fusionner le texte\n",
    "df[\"full_text_raw\"] = df[\"headline\"].fillna('') + \" \" + df[\"pros\"].fillna('') + \" \" + df[\"cons\"].fillna('')\n",
    "\n",
    "# Clean data\n",
    "df_clean = df.dropna(subset=[\"label\"])\n",
    "df_clean = df_clean[df_clean[\"full_text_raw\"].str.strip() != \"\"]\n",
    "\n",
    "# Séparer X (les entrées) et y (la cible) pour l’entraînement du modèle\n",
    "X = df_clean[\"full_text_raw\"].tolist()\n",
    "y = df_clean[\"label\"].tolist()\n",
    "\n",
    "#Split train/test\n",
    "X_train, X_test, y_train, y_test = train_test_split(X, y, test_size=0.2, random_state=42, stratify=y)\n",
    "\n",
    "train_data = Dataset.from_dict({'text': X_train, 'label': y_train})\n",
    "test_data = Dataset.from_dict({'text': X_test, 'label': y_test})\n",
    "\n",
    "\n",
    "# 3. Charger modèle et tokenizer (DistilBERT déjà fine-tuné pour la classification)\n",
    "model_name = \"bert-base-uncased\"\n",
    "tokenizer = AutoTokenizer.from_pretrained(model_name)\n",
    "\n",
    "def tokenize(examples):\n",
    "    return tokenizer(examples['text'], truncation=True)\n",
    "\n",
    "train_data = train_data.map(tokenize, batched=True)\n",
    "test_data = test_data.map(tokenize, batched=True)\n",
    "\n",
    "# Data collator pour padding dynamique\n",
    "data_collator = DataCollatorWithPadding(tokenizer=tokenizer)\n"
   ]
  },
  {
   "cell_type": "code",
   "execution_count": 5,
   "id": "258fc825-4a9e-45b0-bcd7-76b3a15a99c5",
   "metadata": {},
   "outputs": [
    {
     "name": "stdout",
     "output_type": "stream",
     "text": [
      "True\n",
      "0\n",
      "NVIDIA GeForce GTX 1070\n"
     ]
    }
   ],
   "source": [
    "print(torch.cuda.is_available())  # True — если GPU доступен\n",
    "print(torch.cuda.current_device())\n",
    "print(torch.cuda.get_device_name(torch.cuda.current_device()))"
   ]
  },
  {
   "cell_type": "code",
   "execution_count": 6,
   "id": "97da53d3-6fb3-48dc-990a-8bbb3c184351",
   "metadata": {},
   "outputs": [
    {
     "name": "stderr",
     "output_type": "stream",
     "text": [
      "Some weights of BertForSequenceClassification were not initialized from the model checkpoint at bert-base-uncased and are newly initialized: ['classifier.bias', 'classifier.weight']\n",
      "You should probably TRAIN this model on a down-stream task to be able to use it for predictions and inference.\n",
      "C:\\Users\\user\\AppData\\Local\\Temp\\ipykernel_18544\\1194237014.py:32: FutureWarning: `tokenizer` is deprecated and will be removed in version 5.0.0 for `Trainer.__init__`. Use `processing_class` instead.\n",
      "  trainer = Trainer(\n"
     ]
    },
    {
     "data": {
      "text/html": [
       "\n",
       "    <div>\n",
       "      \n",
       "      <progress value='39585' max='39585' style='width:300px; height:20px; vertical-align: middle;'></progress>\n",
       "      [39585/39585 8:42:58, Epoch 3/3]\n",
       "    </div>\n",
       "    <table border=\"1\" class=\"dataframe\">\n",
       "  <thead>\n",
       " <tr style=\"text-align: left;\">\n",
       "      <th>Epoch</th>\n",
       "      <th>Training Loss</th>\n",
       "      <th>Validation Loss</th>\n",
       "      <th>Accuracy</th>\n",
       "      <th>F1 Weighted</th>\n",
       "      <th>F1 Macro</th>\n",
       "      <th>Recall Negative</th>\n",
       "    </tr>\n",
       "  </thead>\n",
       "  <tbody>\n",
       "    <tr>\n",
       "      <td>1</td>\n",
       "      <td>0.201000</td>\n",
       "      <td>0.200380</td>\n",
       "      <td>0.928136</td>\n",
       "      <td>0.925032</td>\n",
       "      <td>0.873063</td>\n",
       "      <td>0.712026</td>\n",
       "    </tr>\n",
       "    <tr>\n",
       "      <td>2</td>\n",
       "      <td>0.168300</td>\n",
       "      <td>0.224208</td>\n",
       "      <td>0.930978</td>\n",
       "      <td>0.929528</td>\n",
       "      <td>0.882872</td>\n",
       "      <td>0.766597</td>\n",
       "    </tr>\n",
       "    <tr>\n",
       "      <td>3</td>\n",
       "      <td>0.120700</td>\n",
       "      <td>0.280630</td>\n",
       "      <td>0.930106</td>\n",
       "      <td>0.928970</td>\n",
       "      <td>0.882445</td>\n",
       "      <td>0.775208</td>\n",
       "    </tr>\n",
       "  </tbody>\n",
       "</table><p>"
      ],
      "text/plain": [
       "<IPython.core.display.HTML object>"
      ]
     },
     "metadata": {},
     "output_type": "display_data"
    },
    {
     "name": "stdout",
     "output_type": "stream",
     "text": [
      "Le temps d'entrainement: 31382.55 seconds\n"
     ]
    }
   ],
   "source": [
    "import time\n",
    "\n",
    "# Modèle (classification avec 2 classes)\n",
    "model = BertForSequenceClassification.from_pretrained(model_name, num_labels=2)\n",
    "\n",
    "# Métriques\n",
    "def compute_metrics(eval_pred):\n",
    "    logits, labels = eval_pred\n",
    "    preds = np.argmax(logits, axis=-1)\n",
    "    return {\n",
    "        'accuracy': accuracy_score(labels, preds),\n",
    "        'f1_weighted': f1_score(labels, preds, average='weighted'),\n",
    "        'f1_macro': f1_score(labels, preds, average='macro'),\n",
    "        'recall_negative': recall_score(labels, preds, pos_label=0),\n",
    "    }\n",
    "\n",
    "# Arguments de l'entrainement\n",
    "training_args = TrainingArguments(\n",
    "    output_dir=\"./results\",\n",
    "    eval_strategy=\"epoch\",\n",
    "    save_strategy=\"epoch\",\n",
    "    learning_rate=2e-5,\n",
    "    per_device_train_batch_size=16,\n",
    "    per_device_eval_batch_size=16,\n",
    "    num_train_epochs=3,\n",
    "    weight_decay=0.01,\n",
    "    load_best_model_at_end=True,\n",
    "    metric_for_best_model=\"f1_macro\",\n",
    ")\n",
    "\n",
    "# Trainer pour fine-tuning\n",
    "trainer = Trainer(\n",
    "    model=model,\n",
    "    args=training_args,\n",
    "    train_dataset=train_data,\n",
    "    eval_dataset=test_data,\n",
    "    tokenizer=tokenizer,\n",
    "    data_collator=data_collator,\n",
    "    compute_metrics=compute_metrics,\n",
    ")\n",
    "\n",
    "# Lancer fine-tuning\n",
    "start_time = time.time()\n",
    "trainer.train()\n",
    "end_time = time.time()\n",
    "\n",
    "print(f\"Le temps d'entrainement: {end_time - start_time:.2f} seconds\")\n"
   ]
  },
  {
   "cell_type": "code",
   "execution_count": 7,
   "id": "4c341c40-d4a4-42ce-b429-6c133f8454e6",
   "metadata": {},
   "outputs": [
    {
     "data": {
      "text/html": [],
      "text/plain": [
       "<IPython.core.display.HTML object>"
      ]
     },
     "metadata": {},
     "output_type": "display_data"
    },
    {
     "name": "stdout",
     "output_type": "stream",
     "text": [
      "              precision    recall  f1-score   support\n",
      "\n",
      "    Negative       0.85      0.77      0.81      9987\n",
      "    Positive       0.95      0.97      0.96     42793\n",
      "\n",
      "    accuracy                           0.93     52780\n",
      "   macro avg       0.90      0.87      0.88     52780\n",
      "weighted avg       0.93      0.93      0.93     52780\n",
      "\n"
     ]
    }
   ],
   "source": [
    "from sklearn.metrics import classification_report\n",
    "import numpy as np\n",
    "\n",
    "# Prédictions sur les données de test\n",
    "predictions = trainer.predict(test_data)\n",
    "\n",
    "# logits -> labels (classes prédites)\n",
    "y_pred = np.argmax(predictions.predictions, axis=1)\n",
    "y_true = predictions.label_ids\n",
    "\n",
    "# Classification report\n",
    "print(classification_report(y_true, y_pred, target_names=[\"Negative\", \"Positive\"]))"
   ]
  },
  {
   "cell_type": "markdown",
   "id": "a7909947-a343-429f-90ce-ec520c5e3b25",
   "metadata": {},
   "source": [
    "Matrice de confusion"
   ]
  },
  {
   "cell_type": "code",
   "execution_count": 8,
   "id": "a002c21f-2ef7-41b0-9bdc-7f7584552402",
   "metadata": {},
   "outputs": [
    {
     "data": {
      "image/png": "[encoded data removed]",
      "text/plain": [
       "<Figure size 600x400 with 2 Axes>"
      ]
     },
     "metadata": {},
     "output_type": "display_data"
    }
   ],
   "source": [
    "from sklearn.metrics import confusion_matrix\n",
    "import seaborn as sns\n",
    "import matplotlib.pyplot as plt\n",
    "\n",
    "\n",
    "# Matrice de confusion\n",
    "cm = confusion_matrix(y_true, y_pred)\n",
    "\n",
    "# Affichage visuel\n",
    "plt.figure(figsize=(6, 4))\n",
    "sns.heatmap(cm, annot=True, fmt='d', cmap='Blues', xticklabels=[\"Negative\", \"Positive\"], yticklabels=[\"Negative\", \"Positive\"])\n",
    "plt.xlabel(\"Prédit\")\n",
    "plt.ylabel(\"Réel\")\n",
    "plt.title(\"Matrice de confusion\")\n",
    "plt.tight_layout()\n",
    "plt.show()"
   ]
  },
  {
   "cell_type": "code",
   "execution_count": 9,
   "id": "5296501e-84b4-4f03-aa07-1e4a617d1783",
   "metadata": {
    "colab": {
     "base_uri": "https://localhost:8080/"
    },
    "id": "5296501e-84b4-4f03-aa07-1e4a617d1783",
    "outputId": "517df48b-5ea3-472d-ed34-1f5e61dbcfc4"
   },
   "outputs": [
    {
     "data": {
      "text/plain": [
       "('fine_tuned_bert_glassdoor\\\\tokenizer_config.json',\n",
       " 'fine_tuned_bert_glassdoor\\\\special_tokens_map.json',\n",
       " 'fine_tuned_bert_glassdoor\\\\vocab.txt',\n",
       " 'fine_tuned_bert_glassdoor\\\\added_tokens.json',\n",
       " 'fine_tuned_bert_glassdoor\\\\tokenizer.json')"
      ]
     },
     "execution_count": 9,
     "metadata": {},
     "output_type": "execute_result"
    }
   ],
   "source": [
    "# Sauvegarder le modèle et tokenizer\n",
    "trainer.save_model(\"fine_tuned_bert_glassdoor\")\n",
    "tokenizer.save_pretrained(\"fine_tuned_bert_glassdoor\")\n"
   ]
  },
  {
   "cell_type": "markdown",
   "id": "7b72c762-8a3f-45a7-b354-8da3432b17e5",
   "metadata": {},
   "source": [
    "Tester le modèle sur des phrases qu'il n'a pas vu"
   ]
  },
  {
   "cell_type": "code",
   "execution_count": 10,
   "id": "a7d47f91-7393-421e-8f07-eaa6cb0c8f11",
   "metadata": {},
   "outputs": [
    {
     "name": "stdout",
     "output_type": "stream",
     "text": [
      "1\n"
     ]
    }
   ],
   "source": [
    "inputs = tokenizer(\"\"\"Job role can get tiring overtime\"\"\", return_tensors=\"pt\", truncation=True, padding=True)\n",
    "inputs = {k: v.to(trainer.model.device) for k, v in inputs.items()}\n",
    "outputs = model(**inputs)\n",
    "prediction = torch.argmax(outputs.logits, dim=1)\n",
    "print(prediction.item())  # 0(négatif) ou 1 (positif)"
   ]
  },
  {
   "cell_type": "code",
   "execution_count": 11,
   "id": "c0e8a8b2-9edf-444f-a5ea-c4e1dacb1aae",
   "metadata": {},
   "outputs": [
    {
     "name": "stdout",
     "output_type": "stream",
     "text": [
      "1\n"
     ]
    }
   ],
   "source": [
    "inputs = tokenizer(\"\"\"I would say the company cares way to much about AHT ( Average Handling Time) rather than giving the best service.\"\"\", return_tensors=\"pt\", truncation=True, padding=True)\n",
    "inputs = {k: v.to(trainer.model.device) for k, v in inputs.items()}\n",
    "outputs = model(**inputs)\n",
    "prediction = torch.argmax(outputs.logits, dim=1)\n",
    "print(prediction.item())  # 0(négatif) ou 1 (positif)"
   ]
  },
  {
   "cell_type": "code",
   "execution_count": 12,
   "id": "7ee8871e-0f2d-4a8a-b82c-b1102d08a712",
   "metadata": {},
   "outputs": [
    {
     "name": "stdout",
     "output_type": "stream",
     "text": [
      "Negative: 0.049, Positive: 0.951\n"
     ]
    }
   ],
   "source": [
    "# Visualser la distribution de la probabilité\n",
    "import torch.nn.functional as F\n",
    "\n",
    "text = \"Job role can get tiring overtime\"\n",
    "inputs = tokenizer(text, return_tensors=\"pt\", truncation=True, padding=True)\n",
    "inputs = {k: v.to(model.device) for k, v in inputs.items()}\n",
    "with torch.no_grad():\n",
    "    outputs = model(**inputs)\n",
    "    probs = F.softmax(outputs.logits, dim=-1)\n",
    "    print(f\"Negative: {probs[0][0].item():.3f}, Positive: {probs[0][1].item():.3f}\")"
   ]
  },
  {
   "cell_type": "markdown",
   "id": "669ff4f5-af2e-4465-af15-d1a22104fc07",
   "metadata": {},
   "source": [
    "##### Modèle a de très bons résultats avec des avis nettement positifs ou négatifs, mais n'arrive pas toujours à discerner des commentaires négatifs ambigus et voilés.\n",
    "Il confond l'ironie ou la critique voilée avec un message positif -quand le vocabulaire ne contient pas de mots explicitement négatifs comme  « mauvais », « terrible », « épuisant ».\n"
   ]
  },
  {
   "cell_type": "markdown",
   "id": "019d03ad-539c-4e7f-9189-4c0c57ef64df",
   "metadata": {},
   "source": [
    "##### Essayer de réentraîner (fine-tuning supplémentaire) le modèle sur des exemples similaires (créer un petit dataset avec des exemples des avis négatifs voilés) "
   ]
  },
  {
   "cell_type": "code",
   "execution_count": 13,
   "id": "9f238848-ad9f-4a29-91a0-059799d649ef",
   "metadata": {},
   "outputs": [],
   "source": [
    "hard_negatives = [\n",
    "    \"Job role can get tiring over time\",\n",
    "    \"The company cares more about metrics than people\",\n",
    "    \"You're expected to prioritize speed over quality\",\n",
    "    \"Too much focus on numbers, not enough on real impact\",\n",
    "    \"Management is more concerned with KPIs than well-being\",\n",
    "    \"The work environment is very results-driven, not supportive\",\n",
    "    \"Employee feedback is often ignored\",\n",
    "    \"Lots of talk about values, not enough action\",\n",
    "    \"Hard to grow if you’re not part of the inner circle\",\n",
    "    \"They preach work-life balance, but don’t practice it\",\n",
    "    \"Recognition goes only to those who play politics\",\n",
    "    \"Too much micromanagement for independent thinkers\",\n",
    "    \"The tools are outdated but expectations are high\",\n",
    "    \"Little room for creativity despite claims of innovation\",\n",
    "    \"More energy spent on reporting than real improvements\",\n",
    "    \"The processes are slow and bureaucratic\",\n",
    "    \"Onboarding is rushed, you're left figuring things out\",\n",
    "    \"Communication is very top-down\",\n",
    "    \"Workload often exceeds what’s reasonable\",\n",
    "    \"Good on paper, but disappointing in practice\",\n",
    "    \"You're expected to be available after hours\",\n",
    "    \"Deadlines are often unrealistic\",\n",
    "    \"They say they care, but actions say otherwise\",\n",
    "    \"Benefits sound great but are hard to access\",\n",
    "    \"Diversity is talked about, not actually valued\",\n",
    "    \"Middle management lacks leadership skills\",\n",
    "    \"Constructive criticism is not well received\",\n",
    "    \"You’re constantly being monitored\",\n",
    "    \"High turnover makes teams unstable\",\n",
    "    \"Meetings are more about appearances than substance\",\n",
    "    \"Too much red tape for simple tasks\",\n",
    "    \"Training is minimal, but expectations are high\",\n",
    "    \"Raises are rare and not performance-based\",\n",
    "    \"Career growth feels like an illusion\",\n",
    "    \"Frequent reorganizations cause confusion\",\n",
    "    \"Leadership lacks transparency\",\n",
    "    \"You’re praised in private, criticized in public\",\n",
    "    \"Flexibility depends on your manager’s mood\",\n",
    "    \"Mental health is mentioned but not prioritized\",\n",
    "    \"Good ideas are often ignored\",\n",
    "    \"Feedback loops are broken\",\n",
    "    \"Remote workers are treated as second-class\",\n",
    "    \"Initiative is not encouraged\",\n",
    "    \"Success depends more on who you know\",\n",
    "    \"Micromanagement kills morale\",\n",
    "    \"Long hours are the unspoken expectation\",\n",
    "    \"Internal politics get in the way of progress\",\n",
    "    \"They celebrate wins but hide losses\",\n",
    "    \"Low pay for the level of responsibility\",\n",
    "    \"You’re left out of key decisions\",\n",
    "    \"Mistakes are punished, not learned from\"\n",
    "]\n",
    "\n",
    "\n",
    "df_hard_negatives = pd.DataFrame({'text': hard_negatives, 'label': [0]*len(hard_negatives)})\n",
    "df_hard_negatives.to_csv(\"hard_negatives.csv\", index=False)"
   ]
  },
  {
   "cell_type": "code",
   "execution_count": 14,
   "id": "87de389e-f980-4a24-ac90-ae98e090c438",
   "metadata": {},
   "outputs": [
    {
     "data": {
      "application/vnd.jupyter.widget-view+json": {
       "model_id": "9b40da1fb5fd440fae38226f27770340",
       "version_major": 2,
       "version_minor": 0
      },
      "text/plain": [
       "Map:   0%|          | 0/51 [00:00<?, ? examples/s]"
      ]
     },
     "metadata": {},
     "output_type": "display_data"
    },
    {
     "name": "stderr",
     "output_type": "stream",
     "text": [
      "C:\\Users\\user\\AppData\\Local\\Temp\\ipykernel_18544\\1046005811.py:38: FutureWarning: `tokenizer` is deprecated and will be removed in version 5.0.0 for `Trainer.__init__`. Use `processing_class` instead.\n",
      "  trainer = Trainer(\n"
     ]
    },
    {
     "data": {
      "text/html": [
       "\n",
       "    <div>\n",
       "      \n",
       "      <progress value='65' max='65' style='width:300px; height:20px; vertical-align: middle;'></progress>\n",
       "      [65/65 00:53, Epoch 5/5]\n",
       "    </div>\n",
       "    <table border=\"1\" class=\"dataframe\">\n",
       "  <thead>\n",
       " <tr style=\"text-align: left;\">\n",
       "      <th>Step</th>\n",
       "      <th>Training Loss</th>\n",
       "    </tr>\n",
       "  </thead>\n",
       "  <tbody>\n",
       "    <tr>\n",
       "      <td>5</td>\n",
       "      <td>0.491700</td>\n",
       "    </tr>\n",
       "    <tr>\n",
       "      <td>10</td>\n",
       "      <td>0.589200</td>\n",
       "    </tr>\n",
       "    <tr>\n",
       "      <td>15</td>\n",
       "      <td>0.190400</td>\n",
       "    </tr>\n",
       "    <tr>\n",
       "      <td>20</td>\n",
       "      <td>0.038000</td>\n",
       "    </tr>\n",
       "    <tr>\n",
       "      <td>25</td>\n",
       "      <td>0.132500</td>\n",
       "    </tr>\n",
       "    <tr>\n",
       "      <td>30</td>\n",
       "      <td>0.073700</td>\n",
       "    </tr>\n",
       "    <tr>\n",
       "      <td>35</td>\n",
       "      <td>0.021000</td>\n",
       "    </tr>\n",
       "    <tr>\n",
       "      <td>40</td>\n",
       "      <td>0.023400</td>\n",
       "    </tr>\n",
       "    <tr>\n",
       "      <td>45</td>\n",
       "      <td>0.009000</td>\n",
       "    </tr>\n",
       "    <tr>\n",
       "      <td>50</td>\n",
       "      <td>0.006700</td>\n",
       "    </tr>\n",
       "    <tr>\n",
       "      <td>55</td>\n",
       "      <td>0.010100</td>\n",
       "    </tr>\n",
       "    <tr>\n",
       "      <td>60</td>\n",
       "      <td>0.006000</td>\n",
       "    </tr>\n",
       "    <tr>\n",
       "      <td>65</td>\n",
       "      <td>0.008000</td>\n",
       "    </tr>\n",
       "  </tbody>\n",
       "</table><p>"
      ],
      "text/plain": [
       "<IPython.core.display.HTML object>"
      ]
     },
     "metadata": {},
     "output_type": "display_data"
    },
    {
     "data": {
      "text/plain": [
       "('bert_glassdoor_finetuned_hard_negatives\\\\tokenizer_config.json',\n",
       " 'bert_glassdoor_finetuned_hard_negatives\\\\special_tokens_map.json',\n",
       " 'bert_glassdoor_finetuned_hard_negatives\\\\vocab.txt',\n",
       " 'bert_glassdoor_finetuned_hard_negatives\\\\added_tokens.json',\n",
       " 'bert_glassdoor_finetuned_hard_negatives\\\\tokenizer.json')"
      ]
     },
     "execution_count": 14,
     "metadata": {},
     "output_type": "execute_result"
    }
   ],
   "source": [
    "# Charger le mini-dataset\n",
    "\n",
    "df_extra = pd.read_csv(\"hard_negatives.csv\")\n",
    "\n",
    "# Transformer en Dataset Hugging Face\n",
    "extra_dataset = Dataset.from_pandas(df_extra)\n",
    "\n",
    "# Tokenization\n",
    "tokenizer = AutoTokenizer.from_pretrained(\"bert-base-uncased\")\n",
    "extra_dataset = extra_dataset.map(lambda x: tokenizer(x[\"text\"], truncation=True), batched=True)\n",
    "\n",
    "# Fine-tuning\n",
    "from transformers import Trainer, TrainingArguments, AutoModelForSequenceClassification, DataCollatorWithPadding\n",
    "from sklearn.metrics import accuracy_score, f1_score, recall_score\n",
    "\n",
    "model = AutoModelForSequenceClassification.from_pretrained(\"fine_tuned_bert_glassdoor\")  # ou le chemin vers le dernier checkpoint\n",
    "\n",
    "training_args = TrainingArguments(\n",
    "    output_dir=\"./results_finetune_extra\",\n",
    "    num_train_epochs=5,\n",
    "    per_device_train_batch_size=4,\n",
    "    learning_rate=1e-5,\n",
    "    save_strategy=\"epoch\",\n",
    "    logging_steps=5,\n",
    ")\n",
    "\n",
    "data_collator = DataCollatorWithPadding(tokenizer=tokenizer)\n",
    "\n",
    "def compute_metrics(pred):\n",
    "    preds = pred.predictions.argmax(-1)\n",
    "    labels = pred.label_ids\n",
    "    return {\n",
    "        'accuracy': accuracy_score(labels, preds),\n",
    "        'f1_macro': f1_score(labels, preds, average='macro'),\n",
    "        'recall_neg': recall_score(labels, preds, pos_label=0),\n",
    "    }\n",
    "\n",
    "trainer = Trainer(\n",
    "    model=model,\n",
    "    args=training_args,\n",
    "    train_dataset=extra_dataset,\n",
    "    tokenizer=tokenizer,\n",
    "    data_collator=data_collator,\n",
    "    compute_metrics=compute_metrics,\n",
    ")\n",
    "\n",
    "trainer.train()\n",
    "trainer.save_model(\"bert_glassdoor_finetuned_hard_negatives\")\n",
    "tokenizer.save_pretrained(\"bert_glassdoor_finetuned_hard_negatives\")"
   ]
  },
  {
   "cell_type": "code",
   "execution_count": 15,
   "id": "53b1b78a-2176-4498-bb46-cfbd15eb803e",
   "metadata": {},
   "outputs": [
    {
     "name": "stdout",
     "output_type": "stream",
     "text": [
      "\n",
      "Phrase: I would say the company cares way to much about AHT ( Average Handling Time) rather than giving the best service.\n",
      "Before fine-tuning:  Negative: 0.026, Positive: 0.974\n",
      "After fine-tuning:   Negative: 0.991, Positive: 0.009\n"
     ]
    }
   ],
   "source": [
    "# Charger tokenizer\n",
    "tokenizer = AutoTokenizer.from_pretrained(\"bert-base-uncased\")\n",
    "\n",
    "# Charger les deux versions de modèle\n",
    "model_before = AutoModelForSequenceClassification.from_pretrained(\"fine_tuned_bert_glassdoor\")\n",
    "model_after = AutoModelForSequenceClassification.from_pretrained(\"bert_glassdoor_finetuned_hard_negatives\")\n",
    "\n",
    "# Définir le device\n",
    "device = torch.device(\"cuda\" if torch.cuda.is_available() else \"cpu\")\n",
    "model_before.to(device)\n",
    "model_after.to(device)\n",
    "\n",
    "# Exemple de phrase\n",
    "text = \"I would say the company cares way to much about AHT ( Average Handling Time) rather than giving the best service.\"\n",
    "inputs = tokenizer(text, return_tensors=\"pt\", truncation=True, padding=True)\n",
    "inputs = {k: v.to(device) for k, v in inputs.items()}\n",
    "\n",
    "# Prédiction avant l'entrainement supplémentaire\n",
    "with torch.no_grad():\n",
    "    outputs_before = model_before(**inputs)\n",
    "    probs_before = F.softmax(outputs_before.logits, dim=-1)\n",
    "\n",
    "# Prédiction après l'entrainement\n",
    "with torch.no_grad():\n",
    "    outputs_after = model_after(**inputs)\n",
    "    probs_after = F.softmax(outputs_after.logits, dim=-1)\n",
    "\n",
    "# Résultats\n",
    "print(f\"\\nPhrase: {text}\")\n",
    "print(f\"Before fine-tuning:  Negative: {probs_before[0][0]:.3f}, Positive: {probs_before[0][1]:.3f}\")\n",
    "print(f\"After fine-tuning:   Negative: {probs_after[0][0]:.3f}, Positive: {probs_after[0][1]:.3f}\")"
   ]
  },
  {
   "cell_type": "code",
   "execution_count": 16,
   "id": "bf188fc5-69ad-47ed-b26d-b799d269484c",
   "metadata": {},
   "outputs": [
    {
     "name": "stdout",
     "output_type": "stream",
     "text": [
      "\n",
      "Phrase: Job role can get tiring overtime\n",
      "Before fine-tuning:  Negative: 0.049, Positive: 0.951\n",
      "After fine-tuning:   Negative: 0.968, Positive: 0.032\n"
     ]
    }
   ],
   "source": [
    "# Charger tokenizer\n",
    "tokenizer = AutoTokenizer.from_pretrained(\"bert-base-uncased\")\n",
    "\n",
    "# Charger les deux versions de modèle\n",
    "model_before = AutoModelForSequenceClassification.from_pretrained(\"fine_tuned_bert_glassdoor\")\n",
    "model_after = AutoModelForSequenceClassification.from_pretrained(\"bert_glassdoor_finetuned_hard_negatives\")\n",
    "\n",
    "# Définir le device\n",
    "device = torch.device(\"cuda\" if torch.cuda.is_available() else \"cpu\")\n",
    "model_before.to(device)\n",
    "model_after.to(device)\n",
    "\n",
    "# Exemple de phrase\n",
    "text = \"Job role can get tiring overtime\"\n",
    "inputs = tokenizer(text, return_tensors=\"pt\", truncation=True, padding=True)\n",
    "inputs = {k: v.to(device) for k, v in inputs.items()}\n",
    "\n",
    "# Prédiction avant l'entrainement supplémentaire\n",
    "with torch.no_grad():\n",
    "    outputs_before = model_before(**inputs)\n",
    "    probs_before = F.softmax(outputs_before.logits, dim=-1)\n",
    "\n",
    "# Prédiction après l'entrainement\n",
    "with torch.no_grad():\n",
    "    outputs_after = model_after(**inputs)\n",
    "    probs_after = F.softmax(outputs_after.logits, dim=-1)\n",
    "\n",
    "# Résultats\n",
    "print(f\"\\nPhrase: {text}\")\n",
    "print(f\"Before fine-tuning:  Negative: {probs_before[0][0]:.3f}, Positive: {probs_before[0][1]:.3f}\")\n",
    "print(f\"After fine-tuning:   Negative: {probs_after[0][0]:.3f}, Positive: {probs_after[0][1]:.3f}\")"
   ]
  },
  {
   "cell_type": "code",
   "execution_count": 17,
   "id": "7071edbf-a8ae-4165-8e82-592e76bc3096",
   "metadata": {},
   "outputs": [
    {
     "name": "stdout",
     "output_type": "stream",
     "text": [
      "\n",
      "Phrase: A lot of flexibility when it comes to holidays, didn’t need to speak to HR, just did my own booking. Great TL, left me to my own devices and was not constantly micromanaging me\n",
      "Before fine-tuning:  Negative: 0.005, Positive: 0.995\n",
      "After fine-tuning:   Negative: 0.033, Positive: 0.967\n"
     ]
    }
   ],
   "source": [
    "# Charger tokenizer\n",
    "tokenizer = AutoTokenizer.from_pretrained(\"bert-base-uncased\")\n",
    "\n",
    "# Charger les deux versions de modèle\n",
    "model_before = AutoModelForSequenceClassification.from_pretrained(\"fine_tuned_bert_glassdoor\")\n",
    "model_after = AutoModelForSequenceClassification.from_pretrained(\"bert_glassdoor_finetuned_hard_negatives\")\n",
    "\n",
    "# Définir le device\n",
    "device = torch.device(\"cuda\" if torch.cuda.is_available() else \"cpu\")\n",
    "model_before.to(device)\n",
    "model_after.to(device)\n",
    "\n",
    "# Exemple de phrase\n",
    "text = \"A lot of flexibility when it comes to holidays, didn’t need to speak to HR, just did my own booking. Great TL, left me to my own devices and was not constantly micromanaging me\"\n",
    "inputs = tokenizer(text, return_tensors=\"pt\", truncation=True, padding=True)\n",
    "inputs = {k: v.to(device) for k, v in inputs.items()}\n",
    "\n",
    "# Prédiction avant l'entrainement supplémentaire\n",
    "with torch.no_grad():\n",
    "    outputs_before = model_before(**inputs)\n",
    "    probs_before = F.softmax(outputs_before.logits, dim=-1)\n",
    "\n",
    "# Prédiction après l'entrainement\n",
    "with torch.no_grad():\n",
    "    outputs_after = model_after(**inputs)\n",
    "    probs_after = F.softmax(outputs_after.logits, dim=-1)\n",
    "\n",
    "# Résultats\n",
    "print(f\"\\nPhrase: {text}\")\n",
    "print(f\"Before fine-tuning:  Negative: {probs_before[0][0]:.3f}, Positive: {probs_before[0][1]:.3f}\")\n",
    "print(f\"After fine-tuning:   Negative: {probs_after[0][0]:.3f}, Positive: {probs_after[0][1]:.3f}\")"
   ]
  },
  {
   "cell_type": "markdown",
   "id": "d0606fa9-2964-4f0e-862e-99da1fa14997",
   "metadata": {},
   "source": [
    "Les résultats montrent **une amélioration significative** de la capacité du modèle à détecter des formulations critiques plus implicites, tout en conservant une bonne précision sur les phrases explicitement positives. Par exemple, la phrase ***« Job role can get tiring overtime »***, initialement classée comme très positive (probabilité négative : 0.028), est désormais correctement reconnue comme négative (probabilité : 0.973).\n",
    "\n",
    "Ce second entraînement a donc permis **d’affiner le jugement** du modèle sur les cas ambigus, rendant les prédictions plus robustes et réalistes dans un contexte d’analyse de sentiments sur les avis professionnels."
   ]
  },
  {
   "cell_type": "code",
   "execution_count": 18,
   "id": "570849a2-468a-41e0-88b3-2ea877f472e1",
   "metadata": {},
   "outputs": [
    {
     "name": "stdout",
     "output_type": "stream",
     "text": [
      "True\n",
      "NVIDIA GeForce GTX 1070\n"
     ]
    }
   ],
   "source": [
    "import torch\n",
    "print(torch.cuda.is_available())\n",
    "print(torch.cuda.get_device_name(0) if torch.cuda.is_available() else \"No GPU\")"
   ]
  },
  {
   "cell_type": "code",
   "execution_count": 19,
   "id": "81a1a25b-18c6-424c-af16-6026d5f339dc",
   "metadata": {},
   "outputs": [
    {
     "name": "stderr",
     "output_type": "stream",
     "text": [
      "100%|██████████████████████████████████████████████████████████████████████████████| 10/10 [3:03:04<00:00, 1098.47s/it]\n"
     ]
    }
   ],
   "source": [
    "import pandas as pd\n",
    "import torch\n",
    "from transformers import AutoTokenizer, AutoModelForSequenceClassification\n",
    "from torch.utils.data import DataLoader, TensorDataset\n",
    "from tqdm import tqdm\n",
    "\n",
    "# 1. Загрузка модели и токенизатора\n",
    "model_path = \"bert_glassdoor_finetuned_hard_negatives\"\n",
    "tokenizer = AutoTokenizer.from_pretrained(model_path)\n",
    "model = AutoModelForSequenceClassification.from_pretrained(model_path)\n",
    "device = torch.device(\"cuda\" if torch.cuda.is_available() else \"cpu\")\n",
    "model = model.to(device)\n",
    "model.eval()\n",
    "\n",
    "# 2. Подготовка данных\n",
    "df['full_text'] = df['headline_clean'].fillna('') + ' ' + df['pros_clean'].fillna('') + ' ' + df['cons_clean'].fillna('')\n",
    "firms = df['firm'].unique()\n",
    "\n",
    "results = []\n",
    "\n",
    "for firm in tqdm(firms):\n",
    "    firm_df = df[df['firm'] == firm]\n",
    "    texts = firm_df['full_text'].tolist()\n",
    "\n",
    "    if len(texts) == 0:\n",
    "        continue\n",
    "\n",
    "    # Токенизация\n",
    "    encoded = tokenizer(texts, padding=True, truncation=True, return_tensors=\"pt\")\n",
    "    dataset = TensorDataset(encoded['input_ids'], encoded['attention_mask'])\n",
    "    loader = DataLoader(dataset, batch_size=32)\n",
    "\n",
    "    preds = []\n",
    "    with torch.no_grad():\n",
    "        for batch in loader:\n",
    "            input_ids, attention_mask = batch\n",
    "            input_ids = input_ids.to(device)\n",
    "            attention_mask = attention_mask.to(device)\n",
    "\n",
    "            outputs = model(input_ids=input_ids, attention_mask=attention_mask)\n",
    "            probs = torch.nn.functional.softmax(outputs.logits, dim=1)\n",
    "            pred = torch.argmax(probs, dim=1)\n",
    "            preds.extend(pred.cpu().numpy())\n",
    "\n",
    "    del encoded, outputs\n",
    "    torch.cuda.empty_cache()\n",
    "    \n",
    "    positive = sum(1 for p in preds if p == 1)\n",
    "    total = len(preds)\n",
    "    sentiment_score = positive / total if total > 0 else None\n",
    "    results.append({'firm': firm, 'bert_sentiment_score': sentiment_score, 'n_reviews': total})\n",
    "\n",
    "# 3. Сохранение\n",
    "bert_results = pd.DataFrame(results)\n",
    "bert_results.to_csv(\"bert_sentiment_by_firm.csv\", index=False)"
   ]
  },
  {
   "cell_type": "code",
   "execution_count": 20,
   "id": "cd9b7bc9-46ad-43c2-b384-96189b574a26",
   "metadata": {},
   "outputs": [
    {
     "data": {
      "text/html": [
       "<div>\n",
       "<style scoped>\n",
       "    .dataframe tbody tr th:only-of-type {\n",
       "        vertical-align: middle;\n",
       "    }\n",
       "\n",
       "    .dataframe tbody tr th {\n",
       "        vertical-align: top;\n",
       "    }\n",
       "\n",
       "    .dataframe thead th {\n",
       "        text-align: right;\n",
       "    }\n",
       "</style>\n",
       "<table border=\"1\" class=\"dataframe\">\n",
       "  <thead>\n",
       "    <tr style=\"text-align: right;\">\n",
       "      <th></th>\n",
       "      <th>firm</th>\n",
       "      <th>bert_sentiment_score</th>\n",
       "      <th>n_reviews</th>\n",
       "    </tr>\n",
       "  </thead>\n",
       "  <tbody>\n",
       "    <tr>\n",
       "      <th>0</th>\n",
       "      <td>Apple</td>\n",
       "      <td>0.787912</td>\n",
       "      <td>17488</td>\n",
       "    </tr>\n",
       "    <tr>\n",
       "      <th>1</th>\n",
       "      <td>Deloitte</td>\n",
       "      <td>0.782902</td>\n",
       "      <td>36366</td>\n",
       "    </tr>\n",
       "    <tr>\n",
       "      <th>2</th>\n",
       "      <td>EY</td>\n",
       "      <td>0.766991</td>\n",
       "      <td>25720</td>\n",
       "    </tr>\n",
       "    <tr>\n",
       "      <th>3</th>\n",
       "      <td>IBM</td>\n",
       "      <td>0.673841</td>\n",
       "      <td>43350</td>\n",
       "    </tr>\n",
       "    <tr>\n",
       "      <th>4</th>\n",
       "      <td>J-P-Morgan</td>\n",
       "      <td>0.717807</td>\n",
       "      <td>19678</td>\n",
       "    </tr>\n",
       "    <tr>\n",
       "      <th>5</th>\n",
       "      <td>KPMG</td>\n",
       "      <td>0.755867</td>\n",
       "      <td>18322</td>\n",
       "    </tr>\n",
       "    <tr>\n",
       "      <th>6</th>\n",
       "      <td>McDonald-s</td>\n",
       "      <td>0.461218</td>\n",
       "      <td>33895</td>\n",
       "    </tr>\n",
       "    <tr>\n",
       "      <th>7</th>\n",
       "      <td>Microsoft</td>\n",
       "      <td>0.783171</td>\n",
       "      <td>21962</td>\n",
       "    </tr>\n",
       "    <tr>\n",
       "      <th>8</th>\n",
       "      <td>Oracle</td>\n",
       "      <td>0.671875</td>\n",
       "      <td>21824</td>\n",
       "    </tr>\n",
       "    <tr>\n",
       "      <th>9</th>\n",
       "      <td>PwC</td>\n",
       "      <td>0.766764</td>\n",
       "      <td>25292</td>\n",
       "    </tr>\n",
       "  </tbody>\n",
       "</table>\n",
       "</div>"
      ],
      "text/plain": [
       "         firm  bert_sentiment_score  n_reviews\n",
       "0       Apple              0.787912      17488\n",
       "1    Deloitte              0.782902      36366\n",
       "2          EY              0.766991      25720\n",
       "3         IBM              0.673841      43350\n",
       "4  J-P-Morgan              0.717807      19678\n",
       "5        KPMG              0.755867      18322\n",
       "6  McDonald-s              0.461218      33895\n",
       "7   Microsoft              0.783171      21962\n",
       "8      Oracle              0.671875      21824\n",
       "9         PwC              0.766764      25292"
      ]
     },
     "execution_count": 20,
     "metadata": {},
     "output_type": "execute_result"
    }
   ],
   "source": [
    "bert_results.head(10)"
   ]
  },
  {
   "cell_type": "code",
   "execution_count": 21,
   "id": "49d0dd46-39ec-4aac-924a-eb7006b132a9",
   "metadata": {},
   "outputs": [],
   "source": [
    "baseline_model_score=[0.90, 0.90, 0.89, 0.82, 0.85, 0.88, 0.71, 0.90, 0.82, 0.89]"
   ]
  },
  {
   "cell_type": "code",
   "execution_count": 22,
   "id": "11550a52-cc5f-4025-b839-87aeb71faa5b",
   "metadata": {},
   "outputs": [
    {
     "data": {
      "text/html": [
       "<div>\n",
       "<style scoped>\n",
       "    .dataframe tbody tr th:only-of-type {\n",
       "        vertical-align: middle;\n",
       "    }\n",
       "\n",
       "    .dataframe tbody tr th {\n",
       "        vertical-align: top;\n",
       "    }\n",
       "\n",
       "    .dataframe thead th {\n",
       "        text-align: right;\n",
       "    }\n",
       "</style>\n",
       "<table border=\"1\" class=\"dataframe\">\n",
       "  <thead>\n",
       "    <tr style=\"text-align: right;\">\n",
       "      <th></th>\n",
       "      <th>firm</th>\n",
       "      <th>bert_sentiment_score</th>\n",
       "      <th>baseline_model_score</th>\n",
       "    </tr>\n",
       "  </thead>\n",
       "  <tbody>\n",
       "    <tr>\n",
       "      <th>0</th>\n",
       "      <td>Apple</td>\n",
       "      <td>0.787912</td>\n",
       "      <td>0.90</td>\n",
       "    </tr>\n",
       "    <tr>\n",
       "      <th>1</th>\n",
       "      <td>Deloitte</td>\n",
       "      <td>0.782902</td>\n",
       "      <td>0.90</td>\n",
       "    </tr>\n",
       "    <tr>\n",
       "      <th>2</th>\n",
       "      <td>EY</td>\n",
       "      <td>0.766991</td>\n",
       "      <td>0.89</td>\n",
       "    </tr>\n",
       "    <tr>\n",
       "      <th>3</th>\n",
       "      <td>IBM</td>\n",
       "      <td>0.673841</td>\n",
       "      <td>0.82</td>\n",
       "    </tr>\n",
       "    <tr>\n",
       "      <th>4</th>\n",
       "      <td>J-P-Morgan</td>\n",
       "      <td>0.717807</td>\n",
       "      <td>0.85</td>\n",
       "    </tr>\n",
       "    <tr>\n",
       "      <th>5</th>\n",
       "      <td>KPMG</td>\n",
       "      <td>0.755867</td>\n",
       "      <td>0.88</td>\n",
       "    </tr>\n",
       "    <tr>\n",
       "      <th>6</th>\n",
       "      <td>McDonald-s</td>\n",
       "      <td>0.461218</td>\n",
       "      <td>0.71</td>\n",
       "    </tr>\n",
       "    <tr>\n",
       "      <th>7</th>\n",
       "      <td>Microsoft</td>\n",
       "      <td>0.783171</td>\n",
       "      <td>0.90</td>\n",
       "    </tr>\n",
       "    <tr>\n",
       "      <th>8</th>\n",
       "      <td>Oracle</td>\n",
       "      <td>0.671875</td>\n",
       "      <td>0.82</td>\n",
       "    </tr>\n",
       "    <tr>\n",
       "      <th>9</th>\n",
       "      <td>PwC</td>\n",
       "      <td>0.766764</td>\n",
       "      <td>0.89</td>\n",
       "    </tr>\n",
       "  </tbody>\n",
       "</table>\n",
       "</div>"
      ],
      "text/plain": [
       "         firm  bert_sentiment_score  baseline_model_score\n",
       "0       Apple              0.787912                  0.90\n",
       "1    Deloitte              0.782902                  0.90\n",
       "2          EY              0.766991                  0.89\n",
       "3         IBM              0.673841                  0.82\n",
       "4  J-P-Morgan              0.717807                  0.85\n",
       "5        KPMG              0.755867                  0.88\n",
       "6  McDonald-s              0.461218                  0.71\n",
       "7   Microsoft              0.783171                  0.90\n",
       "8      Oracle              0.671875                  0.82\n",
       "9         PwC              0.766764                  0.89"
      ]
     },
     "execution_count": 22,
     "metadata": {},
     "output_type": "execute_result"
    }
   ],
   "source": [
    "scores_comparison = pd.DataFrame({\n",
    "    \"firm\": bert_results[\"firm\"],\n",
    "    \"bert_sentiment_score\": bert_results[\"bert_sentiment_score\"],\n",
    "    \"baseline_model_score\": baseline_model_score\n",
    "})\n",
    "scores_comparison.head(10)"
   ]
  },
  {
   "cell_type": "markdown",
   "id": "1420a9a4-dbf8-4aaa-8ba9-371831ae0e26",
   "metadata": {},
   "source": [
    "Visualiser la matrice de confusion du modèle réentrainé"
   ]
  },
  {
   "cell_type": "code",
   "execution_count": 23,
   "id": "6aef86e5-71ef-4b5c-9d5b-e4d6d70395e9",
   "metadata": {},
   "outputs": [
    {
     "data": {
      "image/png": "[encoded data removed]",
      "text/plain": [
       "<Figure size 640x480 with 2 Axes>"
      ]
     },
     "metadata": {},
     "output_type": "display_data"
    },
    {
     "name": "stdout",
     "output_type": "stream",
     "text": [
      "              precision    recall  f1-score   support\n",
      "\n",
      "     Négatif       0.57      0.92      0.71      9987\n",
      "     Positif       0.98      0.84      0.90     42793\n",
      "\n",
      "    accuracy                           0.86     52780\n",
      "   macro avg       0.78      0.88      0.81     52780\n",
      "weighted avg       0.90      0.86      0.87     52780\n",
      "\n"
     ]
    }
   ],
   "source": [
    "from sklearn.metrics import confusion_matrix, classification_report, ConfusionMatrixDisplay\n",
    "import matplotlib.pyplot as plt\n",
    "\n",
    "# Charger modèle et tokenizer\n",
    "model_path = \"bert_glassdoor_finetuned_hard_negatives\"\n",
    "tokenizer = AutoTokenizer.from_pretrained(model_path)\n",
    "model = AutoModelForSequenceClassification.from_pretrained(model_path)\n",
    "device = torch.device(\"cuda\" if torch.cuda.is_available() else \"cpu\")\n",
    "model.to(device)\n",
    "model.eval()\n",
    "\n",
    "# Préparer les données de test\n",
    "texts = test_data['text']\n",
    "true_labels = test_data['label']\n",
    "\n",
    "# Tokenisation\n",
    "encoded = tokenizer(texts, padding=True, truncation=True, return_tensors=\"pt\")\n",
    "dataset = TensorDataset(encoded['input_ids'], encoded['attention_mask'])\n",
    "loader = DataLoader(dataset, batch_size=32)\n",
    "\n",
    "# Prédictions\n",
    "preds = []\n",
    "\n",
    "with torch.no_grad():\n",
    "    for batch in loader:\n",
    "        input_ids, attention_mask = batch\n",
    "        input_ids = input_ids.to(device)\n",
    "        attention_mask = attention_mask.to(device)\n",
    "\n",
    "        outputs = model(input_ids=input_ids, attention_mask=attention_mask)\n",
    "        probs = torch.nn.functional.softmax(outputs.logits, dim=1)\n",
    "        pred = torch.argmax(probs, dim=1)\n",
    "        preds.extend(pred.cpu().numpy())\n",
    "\n",
    "# Affichage de la matrice de confusion\n",
    "cm = confusion_matrix(true_labels, preds)\n",
    "disp = ConfusionMatrixDisplay(confusion_matrix=cm, display_labels=['Négatif', 'Positif'])\n",
    "disp.plot(cmap=plt.cm.Blues)\n",
    "plt.title(\"Matrice de confusion - BERT fine-tuné\")\n",
    "plt.show()\n",
    "\n",
    "# (optionnel) Rapport complet\n",
    "print(classification_report(true_labels, preds, target_names=[\"Négatif\", \"Positif\"]))"
   ]
  },
  {
   "cell_type": "markdown",
   "id": "9e8ce4e5-86a9-472a-bcb6-28209638ac7f",
   "metadata": {},
   "source": [
    "#### Conclusion:\n",
    "Après fine-tuning, le modèle a montré une **amélioration significative du rappel (recall)** pour **la classe Négatif** (de 0.77 à 0.92), ce qui signifie qu’il identifie beaucoup plus de commentaires négatifs qu’avant. Cependant, cette amélioration s’accompagne d’une **baisse du précision** (de 0.85 à 0.57), ce qui entraîne plus de faux positifs pour les avis négatifs.\n",
    "\n",
    "Pour un usage orienté détection de feedbacks négatifs (ex. modération, analyse de risques), le modèle après fine-tuning est plus adapté.\n",
    "\n",
    "Mais pour calculer un **score de sentiment global par entreprise**, où l’équilibre entre précision et rappel est important, le **modèle avant fine-tuning est préférable** — il est plus stable et moins biaisé vers le négatif.\n"
   ]
  },
  {
   "cell_type": "code",
   "execution_count": null,
   "id": "8590e389-7961-4051-ba23-5c8f44634fec",
   "metadata": {},
   "outputs": [],
   "source": []
  }
 ],
 "metadata": {
  "colab": {
   "provenance": []
  },
  "kernelspec": {
   "display_name": "Python 3 (ipykernel)",
   "language": "python",
   "name": "python3"
  },
  "language_info": {
   "codemirror_mode": {
    "name": "ipython",
    "version": 3
   },
   "file_extension": ".py",
   "mimetype": "text/x-python",
   "name": "python",
   "nbconvert_exporter": "python",
   "pygments_lexer": "ipython3",
   "version": "3.10.16"
  },
  "widgets": {
   "application/vnd.jupyter.widget-state+json": {
    "state": {}
   }
  }
 },
 "nbformat": 4,
 "nbformat_minor": 5
}
